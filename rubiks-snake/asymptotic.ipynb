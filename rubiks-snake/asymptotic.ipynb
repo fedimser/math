{
 "cells": [
  {
   "cell_type": "markdown",
   "id": "1380d45a",
   "metadata": {},
   "source": [
    "# Asymptotic behavior of Rubik's Snake Shapes Count\n",
    "\n",
    "Dmytro Fedoriaka, September 2024\n",
    "\n",
    "This is an addition to the [main notebook](count-shapes.ipynb). \n",
    "\n",
    "Here I will study asymptotic behavior of the sequence $S_n$ (the number of n-wedge Rubik's Snake Shapes).\n",
    "\n",
    "\n",
    "Here are precomputed first 28 terms of this sequence:"
   ]
  },
  {
   "cell_type": "code",
   "execution_count": 1,
   "id": "ee41cae8",
   "metadata": {},
   "outputs": [
    {
     "name": "stdout",
     "output_type": "stream",
     "text": [
      "1,4,16,64,241,920,3384,12585,46471,172226,633138,2333757,8561679,31462176,115247629,422677188,1546186675,5661378449,20689242550,75663420126,276279455583,1009416896015,3683274847187,13446591920995,49037278586475,178904588083788,652111697384508,2377810831870022\n"
     ]
    }
   ],
   "source": [
    "from rubiks_snake import RubiksSnakeCounter\n",
    "S = RubiksSnakeCounter.S\n",
    "print(\",\".join(map(str,S[1:29])))"
   ]
  },
  {
   "cell_type": "markdown",
   "id": "e2e72918",
   "metadata": {},
   "source": [
    "## 1. Obvious upper bound\n",
    "\n",
    "Recall that by definition, $S_n$ is the number of strings from $\\{0,1,2,3 \\}^{n-1}$ that are valid formulas. There are $4^{n-1}$ strings in total, which gives upper bound: $S_n \\le 4^{n-1}$.\n",
    "\n",
    "## 2. Easy lower bound\n",
    "\n",
    "At each step we can make 4 rotations, 2 of them increasing some coordinate, and 2 others decreasing some coordinate. If we only take rotations increasing some coordinate, we will never visit the same cube twice. This gives a lower bound $2^{n-1} \\le S_n$."
   ]
  },
  {
   "cell_type": "markdown",
   "id": "f2a92f4d",
   "metadata": {},
   "source": [
    "## 3. Better upper bound\n",
    "\n",
    "We can use the first terms of the sequence to refine the upper bound. \n",
    "\n",
    "If sequence of turns has any subsequence that is invalid (causes spatial conflict), then the whole sequence is also invalid. So, if we have a valid formula of length $ln$, and split it into $n$ strings of length $l$, all those strings must be valid formulas. So, $S_{ln+1} \\le S_{l+1}^n$ and $S_{n} = O(S_{l+1}^{1/l})$."
   ]
  },
  {
   "cell_type": "code",
   "execution_count": 2,
   "id": "5f79281a",
   "metadata": {},
   "outputs": [
    {
     "name": "stdout",
     "output_type": "stream",
     "text": [
      "l=1, exponent=4.000000\n",
      "l=2, exponent=4.000000\n",
      "l=3, exponent=4.000000\n",
      "l=4, exponent=3.940073\n",
      "l=5, exponent=3.915233\n",
      "l=6, exponent=3.874703\n",
      "l=7, exponent=3.852062\n",
      "l=8, exponent=3.831755\n",
      "l=9, exponent=3.817585\n",
      "l=10, exponent=3.803206\n",
      "l=11, exponent=3.792400\n",
      "l=12, exponent=3.781928\n",
      "l=13, exponent=3.773575\n",
      "l=14, exponent=3.765571\n",
      "l=15, exponent=3.758956\n",
      "l=16, exponent=3.752571\n",
      "l=17, exponent=3.747152\n",
      "l=18, exponent=3.741941\n",
      "l=19, exponent=3.737429\n",
      "l=20, exponent=3.733081\n",
      "l=21, exponent=3.729258\n",
      "l=22, exponent=3.725568\n",
      "l=23, exponent=3.722282\n",
      "l=24, exponent=3.719106\n",
      "l=25, exponent=3.716249\n",
      "l=26, exponent=3.713484\n",
      "l=27, exponent=3.710975\n"
     ]
    }
   ],
   "source": [
    "for l in range(1,28):\n",
    "  print(\"l=%d, exponent=%f\" % (l, S[l+1]**(1/l)))  "
   ]
  },
  {
   "cell_type": "markdown",
   "id": "aa3aa6da",
   "metadata": {},
   "source": [
    "So, $S_n = O(3.711^n)$."
   ]
  },
  {
   "cell_type": "markdown",
   "id": "a20fd056",
   "metadata": {},
   "source": [
    "## 4. Better lower bound\n",
    "\n",
    "We can generalize the bound above. Let's say we start with one wedge facing in +x direction and build snake in steps such that:\n",
    "* At each step we add $l$ edges.\n",
    "* After each step the last wedge's open is facing in positive axis direction (that is, +x, +y or +z).\n",
    "* Let $(x_0, y_0,z_0)$ be coordinated of the last wedge before the step, $(x_1, y_1,z_1)$ - after the step, then:\n",
    "  * $x_1 \\ge x_0 $\n",
    "  * $y_1 \\ge y_0 $\n",
    "  * $z_1 \\ge z_0 $\n",
    "  * $x_1 > x_0 $ or $y_1 > y_0 $ or $z_1 > z_0 $\n",
    "  * For every wedge $(x,y,z)$ added during the step, $x \\le x_1, y \\le y_1, z \\le z_1$\n",
    "  * For every wedge $(x,y,z)$ added during the step, $x > x_0$ or $y > y_0$ or $z > z_0$\n",
    "  * There are no spacial conflicts during the step.\n",
    "\n",
    "If we follow this procedure, we will not get any spatial conflicts.\n",
    "\n",
    "We can directly enumerate all possible ways to make a step of length $l$ - let's call this $a_l$. Then we can have a lower bound: $S_{ln+1} \\ge a_l^n$ and asymptotic $S_n = \\Omega({a_l^{n/l}})$.\n",
    "\n",
    "Let's do this for $l$ from 1 to 10."
   ]
  },
  {
   "cell_type": "code",
   "execution_count": 3,
   "id": "e3ca3898",
   "metadata": {},
   "outputs": [
    {
     "name": "stdout",
     "output_type": "stream",
     "text": [
      "l=1, a[1]=2, exponent=2.000000\n",
      "l=2, a[2]=4, exponent=2.000000\n",
      "l=3, a[3]=8, exponent=2.000000\n",
      "l=4, a[4]=24, exponent=2.213364\n",
      "l=5, a[5]=72, exponent=2.352158\n",
      "l=6, a[6]=220, exponent=2.456992\n",
      "l=7, a[7]=672, exponent=2.534603\n",
      "l=8, a[8]=2056, exponent=2.594943\n",
      "l=9, a[9]=6392, exponent=2.647577\n",
      "l=10, a[10]=20356, exponent=2.696927\n"
     ]
    }
   ],
   "source": [
    "from rubiks_snake_slow import construct_formula, is_formula_valid, enumerate_valid_formulas_slow\n",
    "\n",
    "def is_formula_good(formula):\n",
    "  wedges = construct_formula(list(map(int,formula)))\n",
    "  assert wedges[0].get_coord_relative_to_center() == (0,0,0)\n",
    "  assert wedges[0].get_face_id_2() == 3\n",
    "  if wedges[-1].get_face_id_2() not in [3,4,5]:\n",
    "    return False\n",
    "  dx,dy,dz = wedges[-1].get_coord_relative_to_center()  \n",
    "  for wedge in wedges[1:]:\n",
    "    x,y,z = wedge.get_coord_relative_to_center()\n",
    "    if x>dx or y>dy or z>dz: return False\n",
    "    if not(x>0 or y>0 or z>0): return False\n",
    "  return dx>=0 and dy>=0 and dz>=0 and (dx+dy+dz)>0\n",
    "    \n",
    "for l in range(1, 11):  \n",
    "  good_formulas = [f for f in enumerate_valid_formulas_slow(l+1) if is_formula_good(f)]\n",
    "  fc = len(good_formulas)\n",
    "  print(\"l=%d, a[%d]=%d, exponent=%f\" % (l, l, fc, fc**(1/l)))  \n",
    "  # Validation (very slow).\n",
    "  if (l<=7):\n",
    "    for f1 in good_formulas:\n",
    "      for f2 in good_formulas:\n",
    "        assert any(is_formula_valid(f1+rot+f2[1:]) for rot in \"0123\")\n"
   ]
  },
  {
   "cell_type": "markdown",
   "id": "43026523",
   "metadata": {},
   "source": [
    "For $l=10$, we get asymptotic $20356^n  \\le S_{10n+1}$ and $S_n = \\Omega(2.696^n)$"
   ]
  },
  {
   "cell_type": "markdown",
   "id": "364e52d2",
   "metadata": {},
   "source": [
    "## 5. Conjectures towards asymptotic formula\n",
    "\n",
    "Here I will try to obtain tighter bounds. I will analyze the data and make some conjectures and get some bounds based on them (each conjecture assumes previous conjectures are true and gets tighter bound).\n",
    "\n",
    "Unfortunately at the moment none of these conjectures are proven."
   ]
  },
  {
   "cell_type": "markdown",
   "id": "408e392b",
   "metadata": {},
   "source": [
    "Consider the sequence $r_n = \\frac{S_{n+1}}{S_n}$. \n",
    "\n",
    "$r_n$ has the following meaning. Consider set of all (valid) shapes for the snake with $n$ wedges. Try adding next wedge to the tail. There are three options: \n",
    "* You can't do it (cube is fully occupied or partially occupied) - this means you have 0 options to extend the snake.\n",
    "* You can do it, but only in unique way (cube is partially occupied) - this means you have 1 option to do extend the snake.\n",
    "* The cube is empty. Then you have 4 different options to extend the snake.\n",
    "\n",
    "$r_n$ is the *average* number to extend a random snake.\n",
    "\n",
    "From easy bounds obtained before, we have $2^{n-1} \\le r_n \\le 4^{n-1}$.\n",
    "\n",
    "Then, we can write the following:\n",
    "\n",
    "\n",
    "$$\n",
    "\\log S_n = \\sum_{i=1}^{n-1} \\log{r_i}\n",
    "$$\n",
    "\n",
    "Let's print and plot first 25 values of the sequence $r_n$:"
   ]
  },
  {
   "cell_type": "code",
   "execution_count": 4,
   "id": "f706822f",
   "metadata": {},
   "outputs": [
    {
     "name": "stdout",
     "output_type": "stream",
     "text": [
      "r[1]=\t 4.000000\n",
      "r[2]=\t 4.000000\n",
      "r[3]=\t 4.000000\n",
      "r[4]=\t 3.765625\n",
      "r[5]=\t 3.817427\n",
      "r[6]=\t 3.678261\n",
      "r[7]=\t 3.718972\n",
      "r[8]=\t 3.692571\n",
      "r[9]=\t 3.706096\n",
      "r[10]=\t 3.676205\n",
      "r[11]=\t 3.686016\n",
      "r[12]=\t 3.668625\n",
      "r[13]=\t 3.674767\n",
      "r[14]=\t 3.663053\n",
      "r[15]=\t 3.667556\n",
      "r[16]=\t 3.658079\n",
      "r[17]=\t 3.661510\n",
      "r[18]=\t 3.654453\n",
      "r[19]=\t 3.657138\n",
      "r[20]=\t 3.651427\n",
      "r[21]=\t 3.653608\n",
      "r[22]=\t 3.648913\n",
      "r[23]=\t 3.650716\n",
      "r[24]=\t 3.646818\n",
      "r[25]=\t 3.648338\n",
      "r[26]=\t 3.645025\n",
      "r[27]=\t 3.646324\n"
     ]
    },
    {
     "data": {
      "image/png": "[encoded data removed]",
      "text/plain": [
       "<Figure size 640x480 with 1 Axes>"
      ]
     },
     "metadata": {},
     "output_type": "display_data"
    }
   ],
   "source": [
    "from matplotlib import pyplot as plt\n",
    "\n",
    "r = [None] + [S[n+1]/S[n] for n in range(1,len(S)-1)]\n",
    "for i in range(1,len(r)):\n",
    "  print(\"r[%d]=\\t %f\" % (i, r[i]))\n",
    "plt.plot(range(1,len(S)-1), r[1:])\n",
    "plt.xlabel(\"n\")\n",
    "plt.ylabel(\"r[n]\")\n",
    "plt.show()"
   ]
  },
  {
   "cell_type": "markdown",
   "id": "0a1772ec",
   "metadata": {},
   "source": [
    "It seems that $r_n$ approaches some limit around 3.64, but I can't prove it.\n",
    "\n",
    "Also, for data we have, subsequences $r_{2n}$ and $r_{2n+1}$ are monotonically decreasing (starting from $r_8$). If this is true for all $n$, we can get a very good lower bound.\n",
    "\n",
    "\n",
    "### Conjecture 1: Sequences $r_{2n}$ and $r_{2n+1}$ are monotonically decreasing for $n>=4$.\n",
    "\n",
    "**Proof sketch.** Consider random snake of length $n$, there are on average $x$ ways to add wedge on one side. Now extend it from the other side in all possible ways. This can only decrease $x$, because it will block some extensions that were possible before, but won't allow any new extension.\n",
    "\n",
    "*Note.* This seems intuitive, and is consistent with computed values. However, this proof sketch implies that $r_{n}$ must be monotonically decreasing, and it's not. Snakes of odd and even lengths seem to behave differently. So, the proper proof must explain this non-monotonicity between odd and even $n$.\n",
    "\n",
    "\n",
    "If Conjecture 1 is true, by monotone convergence theorem, these limits exist: \n",
    "\n",
    "$$\\underset{n \\to \\infty}{\\lim} r_{2n} = \\alpha_0$$\n",
    "$$\\underset{n \\to \\infty}{\\lim} r_{2n+1} = \\alpha_1$$\n",
    "\n",
    "Also, from the same theorem, we know that for any $n$, $r_{2n} \\ge \\alpha_0$ and $r_{2n+1} \\ge \\alpha_1$ \n",
    "\n",
    "This gives us the following lower bounds:\n",
    "\n",
    "$$\\alpha_0^n \\alpha_1^n \\le S_{2n+1}$$\n",
    "$$\\alpha_0^n \\alpha_1^n \\cdot \\alpha_0 \\le S_{2n+2}$$\n",
    "\n",
    "Or, we can write: $S_{n} \\in \\Omega((\\alpha_0 \\alpha_1)^{n/2})$.\n",
    "\n",
    "### Conjecture 2:  $\\sum_{n=0}^{\\infty} \\log(\\frac{r_{2n+1}r_{2n+2}}{\\alpha_0 \\alpha_1})  = A < \\infty$\n",
    "\n",
    "This means that the sequences $r_{2n}$ and $r_{2n+1}$ converge fast enough. In this case:\n",
    "\n",
    "$$\\alpha_0^n \\alpha_1^n \\le S_{2n+1} \\le e^A \\cdot \\alpha_0^n \\alpha_1^n$$\n",
    "$$\\alpha_0^n \\alpha_1^n \\cdot \\alpha_0  \\le S_{2n+2} \\le 4 \\cdot e^A \\cdot \\alpha_0^n \\alpha_1^n$$\n",
    "\n",
    "Or, we can write: $S_{n} \\in \\Theta((\\alpha_0 \\alpha_1)^{n/2})$.\n",
    "\n",
    "We can also get asymptotic equivalence. This conjecture is equivalent to \n",
    "$ \\underset{n \\to \\infty}{\\lim} \\frac{S_{2n+1}}{\\alpha_0^n \\alpha_1^n} = e^A$, from which we get \n",
    "$ \\underset{n \\to \\infty}{\\lim} \\frac{S_{2n+1}}{e^A \\alpha_0^n \\alpha_1^n} = 1$, and, by definition of asymptotic equivalence\n",
    "\n",
    "$$S_{2n+1} \\sim e^A \\alpha_0^n \\alpha_1^n$$\n",
    "\n",
    "$$S_{2n+2} \\sim e^A \\alpha_0^n \\alpha_1^{n+1}$$\n",
    "\n",
    "\n",
    "### Conjecture 3: $\\alpha_0 = \\alpha_1$\n",
    "\n",
    "Then $S_n \\sim e^A \\alpha_0^{n-1}$.\n"
   ]
  },
  {
   "cell_type": "markdown",
   "id": "d4bd0b90",
   "metadata": {},
   "source": [
    "### Estimating parameters\n",
    "If all these conjectures are true, what are values of $e^A$ and $\\alpha$? Let's get approximate values from the data. We see that $\\alpha$ approaches limit somewhere around 3.64. Let's print values of $\\frac{S_n}{3.64^{n-1}}$:"
   ]
  },
  {
   "cell_type": "code",
   "execution_count": 5,
   "id": "851b7bfd",
   "metadata": {},
   "outputs": [
    {
     "name": "stdout",
     "output_type": "stream",
     "text": [
      "2 1.0989010989010988\n",
      "3 1.2075836251660426\n",
      "4 1.327014972709937\n",
      "5 1.372813394673312\n",
      "6 1.4397295188311603\n",
      "7 1.4548628439215976\n",
      "8 1.4864268252306676\n",
      "9 1.507894471337637\n",
      "10 1.5352752976545923\n",
      "11 1.5505456021152393\n",
      "12 1.5701473605252831\n",
      "13 1.5824949659550214\n",
      "14 1.5976099943724222\n",
      "15 1.6077281955969716\n",
      "16 1.6198994379827594\n",
      "17 1.6279452235287346\n",
      "18 1.6375654442928518\n",
      "19 1.6440676556925098\n",
      "20 1.6518084329504792\n",
      "21 1.6569939341012143\n",
      "22 1.6631886523588644\n",
      "23 1.6672613668587524\n",
      "24 1.6721698980651125\n",
      "25 1.6753021761846612\n",
      "26 1.6791399217407763\n"
     ]
    }
   ],
   "source": [
    "alpha=3.64\n",
    "for i in range(2,27):\n",
    "  print(i, S[i]/(alpha**(i-1)))"
   ]
  },
  {
   "cell_type": "markdown",
   "id": "c4a3af39",
   "metadata": {},
   "source": [
    "So, approximately, and conditioned on all the conjectures, $S_n \\sim 1.7 \\cdot 3.64^{n-1}$"
   ]
  }
 ],
 "metadata": {
  "kernelspec": {
   "display_name": "Python 3 (ipykernel)",
   "language": "python",
   "name": "python3"
  },
  "language_info": {
   "codemirror_mode": {
    "name": "ipython",
    "version": 3
   },
   "file_extension": ".py",
   "mimetype": "text/x-python",
   "name": "python",
   "nbconvert_exporter": "python",
   "pygments_lexer": "ipython3",
   "version": "3.10.12"
  }
 },
 "nbformat": 4,
 "nbformat_minor": 5
}
