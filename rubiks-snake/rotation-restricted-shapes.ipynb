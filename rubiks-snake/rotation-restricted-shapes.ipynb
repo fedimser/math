{
 "cells": [
  {
   "cell_type": "markdown",
   "id": "9b45aa0a",
   "metadata": {},
   "source": [
    "# Counting Rubik's Snake shapes with restricted rotations\n",
    "\n",
    "Rubik's Snake has 4 possible rotations, encoded in formula by numbers 0,1,2,3. Number of valid shapes of $n$ wedges is approximately $\\Omega(3.64^{n-1})$.\n",
    "\n",
    "What if we allow only some of these rotations?\n",
    "\n",
    "Define $\\text{SR}_r(n)$ - number of n-wedge snakes when only rotations from set r are allowed.\n",
    "\n",
    "Then:\n",
    "* $\\text{SR}_{0123}(n) = S(n)$ - unrestricted number of shapes.\n",
    "* $\\text{SR}_{0}(n) = \\text{SR}_1(n)=\\text{SR}_2(n)=1$ for any n.\n",
    "* $\\text{SR}_{2}(n) = 1$ for n=1,2,3,4 and $\\text{SR}_{2}(n)=0$ otherwise.\n",
    "* For 2 allowed rotations, accounting for symmetries, we have 4 distinct sequences:\n",
    "   * $\\text{SR}_{01}(n)=\\text{SR}_{03}(n)$\n",
    "   * $\\text{SR}_{02}(n)$\n",
    "   * $\\text{SR}_{12}(n)=\\text{SR}_{23}(n)$\n",
    "   * $\\text{SR}_{13}(n)$\n",
    "* For 3 allowed rotations, accounting for symmetries, we have 3 distinct sequences:\n",
    "   * $\\text{SR}_{013}(n)$\n",
    "   * $\\text{SR}_{023}(n)=\\text{SR}_{012}(n)$\n",
    "   * $\\text{SR}_{123}(n)$\n",
    "   \n",
    "Code below computes first terms for these seven interesting sequences. It also estimates asymptotic for these sequence in a form $A \\cdot B^{n-1}$."
   ]
  },
  {
   "cell_type": "code",
   "execution_count": 1,
   "id": "ebc281e1",
   "metadata": {},
   "outputs": [],
   "source": [
    "import numpy as np\n",
    "import numba\n",
    "import functools\n",
    "import time\n",
    "\n",
    "from rubiks_snake import _push_next_wedge_if_can, _count_shapes_rec, _pop_wedge, \\\n",
    "  _prepare_arena, INIT_WEDGE\n",
    "\n",
    "@functools.cache\n",
    "def count_shapes_rec(allowed_rots):\n",
    "  ALLOWED_ROTS=np.array(list(set(map(int, allowed_rots))))\n",
    "  @numba.jit(\"(i8[:],i8[:],i8[:])\")\n",
    "  def f_rec(wedges, cubes, total_count):\n",
    "    total_count[wedges[0]] += 1\n",
    "    if wedges[0] == 1: return\n",
    "    for rot in ALLOWED_ROTS:\n",
    "      if _push_next_wedge_if_can(rot, wedges, cubes):\n",
    "        f_rec(wedges, cubes, total_count)\n",
    "        _pop_wedge(wedges, cubes)\n",
    "  return f_rec\n",
    "\n",
    "def count_shapes(n, allowed_rots=\"0123\"):\n",
    "  wedges, cubes = _prepare_arena(n, INIT_WEDGE)\n",
    "  total_count = np.zeros(n + 1, dtype=np.int64)\n",
    "  count_shapes_rec(allowed_rots)(wedges, cubes, total_count)\n",
    "  return total_count[1:][::-1]"
   ]
  },
  {
   "cell_type": "code",
   "execution_count": 2,
   "id": "7f04c1a6",
   "metadata": {},
   "outputs": [
    {
     "name": "stdout",
     "output_type": "stream",
     "text": [
      "SR_01 ~ 1.101 * 1.993^(n-1)\n",
      "First 32 terms: 1,2,4,8,16,32,64,128,256,512,1024,2048,4096,8192,16384,32768,65520,131016,261944,523728,1046890,2092776,4182704,8360094,16706223,33386122,66706840,133289212,266266438,531752374,1060898222,2114153979\n",
      "Time: 53.4s\n",
      "\n",
      "SR_02 ~ 1.757 * 1.754^(n-1)\n",
      "First 32 terms: 1,2,4,8,13,24,44,81,139,250,450,809,1403,2498,4447,7910,13769,24363,43106,76236,132865,234171,412731,727253,1267901,2228666,3917654,6885484,12004150,21059478,36947904,64816418\n",
      "Time: 2.8s\n",
      "\n",
      "SR_12 ~ 1.816 * 1.617^(n-1)\n",
      "First 32 terms: 1,2,4,8,12,20,32,52,84,136,220,356,576,932,1508,2440,3948,6388,10336,16724,27058,43776,70808,114544,185265,299688,484698,783946,1267770,2050320,3315059,5360440\n",
      "Time: 0.9s\n",
      "\n",
      "SR_13 ~ 1.386 * 1.899^(n-1)\n",
      "First 32 terms: 1,2,4,8,16,32,58,112,216,416,802,1546,2904,5552,10616,20294,38802,74176,140104,266876,508396,968444,1844880,3514190,6647842,12637552,24025376,45674758,86834448,165078850,312425728,593173256\n",
      "Time: 18.4s\n",
      "\n",
      "SR_013 ~ 1.149 * 2.937^(n-1)\n",
      "First 18 terms: 1,3,9,27,81,243,713,2109,6237,18441,54351,160343,471199,1386157,4074065,11977055,35158475,103248669\n",
      "Time: 2.8s\n",
      "\n",
      "SR_023 ~ 1.378 * 2.750^(n-1)\n",
      "First 20 terms: 1,3,9,27,73,204,567,1579,4371,12126,33493,92656,255441,705083,1941680,5351084,14719663,40516761,111359061,306222812\n",
      "Time: 7.3s\n",
      "\n",
      "SR_123 ~ 2.330 * 2.452^(n-1)\n",
      "First 22 terms: 1,3,9,27,72,198,472,1176,2884,7196,17802,44232,108436,266754,655360,1613588,3967122,9758182,23905076,58620944,143578432,352025818\n",
      "Time: 8.9s\n",
      "\n"
     ]
    }
   ],
   "source": [
    "for allowed_rots, n in [(\"01\", 32), (\"02\", 32), (\"12\", 32), (\"13\", 32),\n",
    "                        (\"013\", 18), (\"023\", 20), (\"123\", 22)]:\n",
    "  t0 = time.time()\n",
    "  counts = count_shapes(n, allowed_rots=allowed_rots)\n",
    "  appr_exp = counts[-1] / counts[-2]\n",
    "  appr_const = counts[-1] / appr_exp**(n-1)\n",
    "  print(\"SR_%s ~ %.03f * %.03f^(n-1)\" % (allowed_rots, appr_const, appr_exp))\n",
    "  print(\"First %d terms: %s\" % (n, \",\".join(map(str,counts))))\n",
    "  print(\"Time: %.01fs\" % (time.time()-t0))\n",
    "  print(\"\")"
   ]
  },
  {
   "cell_type": "markdown",
   "id": "19f951cd",
   "metadata": {},
   "source": [
    "Interesting observations:\n",
    "* $\\text{SR}_{01}(n)$ is very close to $2^{n-1}$, and first discrepancy is at 17-th term (65520 instead of 65536).\n",
    "* $\\text{SR}_{02}(n)$ is the number of \"flat\" shapes, such that if you place it on a table, all"
   ]
  }
 ],
 "metadata": {
  "kernelspec": {
   "display_name": "Python 3 (ipykernel)",
   "language": "python",
   "name": "python3"
  },
  "language_info": {
   "codemirror_mode": {
    "name": "ipython",
    "version": 3
   },
   "file_extension": ".py",
   "mimetype": "text/x-python",
   "name": "python",
   "nbconvert_exporter": "python",
   "pygments_lexer": "ipython3",
   "version": "3.10.12"
  }
 },
 "nbformat": 4,
 "nbformat_minor": 5
}
