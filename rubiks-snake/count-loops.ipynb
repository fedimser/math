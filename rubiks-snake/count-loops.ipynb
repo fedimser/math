{
 "cells": [
  {
   "cell_type": "markdown",
   "id": "2e8b3a72",
   "metadata": {},
   "source": [
    "# Counting Rubik's Snake Loops\n",
    "\n",
    "Loop is a shape where tail and head are adjacent.\n",
    "\n",
    "Let's define four numbers for $n$-wedge Rubik's Snake:\n",
    "\n",
    "* L1(n) - number of formulas (i.e. strings of characters 0,1,2,3 of length $n-1$) that describe shape that are loops.\n",
    "* L2(n) - number of formulas, deduplicated \"up to reversal\" that describe loop.\n",
    "* L3(n) - number of loops (described by n-character formulas) up to cyclic shifts.\n",
    "* L4(n) - number of loops up to cyclic shifts and reversals.\n",
    "\n",
    "L4 is the most meaningful number. It is the number of different loops if we look at loops as sets of wedges (ignoring where the tail-head connection is), and consider two loops the same if they can be matched by translation and rotation.\n",
    "\n",
    "All these values are zeros for odd $n$, and for n=2. So we will be computing values for n=4,6,8,10...\n",
    "\n",
    "Below are values for n from 4 to 24 that I got (with step 2). -1 means value haven't yet been computed."
   ]
  },
  {
   "cell_type": "code",
   "execution_count": 1,
   "id": "f953ad26",
   "metadata": {},
   "outputs": [],
   "source": [
    "L1_GOLDEN = [1,8,16,280,2229,20720,226000,2293422,24965960,275633094,3069890660]\n",
    "L2_GOLDEN = [1,5,10,145,1129,10405,113113,1147142,12484285,137821030,1534958307]\n",
    "L3_GOLDEN = [1,3,3,31,196,1509,14191,127681,1248963,12531157,-1]\n",
    "L4_GOLDEN = [1,2,3,18,112,777,7198,64056,625584,6267820,63970851]"
   ]
  },
  {
   "cell_type": "markdown",
   "id": "a4813f26",
   "metadata": {},
   "source": [
    "These are all normalized loops (in sense of definition L4) for n=4,6,8,10."
   ]
  },
  {
   "cell_type": "code",
   "execution_count": 2,
   "id": "9fe535d2",
   "metadata": {},
   "outputs": [],
   "source": [
    "L4_LOOPS = {\n",
    "  4: {'2222'},\n",
    "  6: {'131313', '123123'},\n",
    "  8: {'01230321', '00220022', '12321232'},\n",
    "  10: {'0131201312', '0021331132', '0021013032', '0013211022', '0231303132', \n",
    "       '0121323022', '0230320323', '0113133022', '0012300123', '0113203312', \n",
    "       '0123023212', '0131202131', '0013100313', '0021330313', '0120121021', \n",
    "       '0013101132', '0022033213', '0231302313'}\n",
    "}"
   ]
  },
  {
   "cell_type": "markdown",
   "id": "cd929afb",
   "metadata": {},
   "source": [
    "Code computing the loops.\n",
    "\n",
    "We enumerate all loops using meet-in the middle, then do deduplication."
   ]
  },
  {
   "cell_type": "code",
   "execution_count": 3,
   "id": "e432f9c2",
   "metadata": {},
   "outputs": [],
   "source": [
    "import numba\n",
    "import numpy as np\n",
    "import time\n",
    "import functools\n",
    "\n",
    "from rubiks_snake import RubiksSnakeCounter, _push_wedge,_pop_wedge,_push_next_wedge_if_can, \\\n",
    "    _prepare_arena, _add_wedges_from_formula_while_can, _pop_n_wedges, \\\n",
    "    encode_formula_as_int, decode_formula, reverse_encoded_formula, min_cyclic_shift, \\\n",
    "    concat_encoded_formulas, INIT_WEDGE,BOX_SIZE,FACE_IDS_TO_WEDGE_ID,DY   \n",
    "\n",
    "\n",
    "# Enumerates all shapes.\n",
    "@numba.jit(\"(i8[:],i8[:],i8,i8[:],i8[:])\")\n",
    "def _enumerate_shapes_rec(wedges, cubes, cur_formula, formulas, last_wedges):\n",
    "    last_wedge_index = wedges[0]\n",
    "    last_wedge = wedges[wedges[0]]\n",
    "    if wedges[0] == 1:\n",
    "      next_pos = formulas[0]\n",
    "      formulas[formulas[0]] = cur_formula\n",
    "      last_wedges[formulas[0]] = last_wedge\n",
    "      formulas[0]+=1\n",
    "      return\n",
    "\n",
    "    for rot in range(4):\n",
    "      if _push_next_wedge_if_can(rot, wedges, cubes):\n",
    "        _enumerate_shapes_rec(wedges, cubes, (cur_formula<<2)+rot, formulas, last_wedges)\n",
    "        _pop_wedge(wedges, cubes)\n",
    "        \n",
    "# Enumerates shapes of length n, their formulas have length n-1.\n",
    "def enumerate_shapes(n, first_wedge_faces=(0,3)):  \n",
    "  assert n<=20\n",
    "  wedges, cubes = _prepare_arena(n, FACE_IDS_TO_WEDGE_ID[first_wedge_faces])  \n",
    "\n",
    "  num_shapes = RubiksSnakeCounter.S[n]\n",
    "  formulas = np.zeros(num_shapes+1, dtype=np.int64) \n",
    "  last_wedges = np.zeros_like(formulas)\n",
    "  formulas[0] = 1\n",
    "  \n",
    "  _enumerate_shapes_rec(wedges, cubes, 0, formulas, last_wedges)\n",
    "  \n",
    "  assert formulas[0] == 1 + num_shapes\n",
    "  return formulas[1:], last_wedges[1:]\n",
    "\n",
    "\n",
    "@numba.jit(\"i8(i8,i8)\", inline=\"always\")\n",
    "def normalize_encoded_loop_L2(f, n):\n",
    "  f_without_last = f//4\n",
    "  return min(f_without_last, reverse_encoded_formula(f_without_last, n-1))\n",
    "\n",
    "@numba.jit(\"i8(i8,i8)\", inline=\"always\")\n",
    "def normalize_encoded_loop_L3(f, n):\n",
    "  return min_cyclic_shift(f, n)\n",
    "        \n",
    "@numba.jit(\"i8(i8,i8)\", inline=\"always\")\n",
    "def normalize_encoded_loop_L4(f, n):\n",
    "  rev = reverse_encoded_formula(f, n)\n",
    "  return min(min_cyclic_shift(f, n), min_cyclic_shift(rev, n))\n",
    "\n",
    "@functools.cache\n",
    "def _count_loops_helper(mode):\n",
    "  @numba.jit(\"i8(i8,i8[:],i8[:],i8[:],i8[:])\")\n",
    "  def f(n, formulas_1, last_wedges_1, formulas_2, last_wedges_2):\n",
    "    half_shapes_count = len(formulas_1)\n",
    "    assert len(formulas_2) == half_shapes_count\n",
    "    m = n // 2\n",
    "\n",
    "    # Manual map to store mapping wedge_id -> List[formula]. \n",
    "    linked_list_2 = np.full((half_shapes_count,), -1)\n",
    "    wedge_id_to_formula_pos_2 = np.full(((BOX_SIZE**3)<<6,), -1)\n",
    "\n",
    "    for i in range(half_shapes_count):\n",
    "      last_wedge = last_wedges_2[i]\n",
    "      if wedge_id_to_formula_pos_2[last_wedge] != -1:\n",
    "        linked_list_2[i] = wedge_id_to_formula_pos_2[last_wedge] \n",
    "      wedge_id_to_formula_pos_2[last_wedge]=i  \n",
    "\n",
    "    wedges, cubes = _prepare_arena(n, INIT_WEDGE)\n",
    "    loop_formulas_count = 0 \n",
    "    normalized_loops = set()\n",
    "    normalized_loops.add(0)\n",
    "    normalized_loops.remove(0)\n",
    "\n",
    "    for i in range(half_shapes_count):\n",
    "      lookup_key = last_wedges_1[i] ^ 16\n",
    "      ll_pos = wedge_id_to_formula_pos_2[lookup_key]\n",
    "      if ll_pos == -1:\n",
    "        continue\n",
    "      formula1 = formulas_1[i]\n",
    "      assert _add_wedges_from_formula_while_can(formula1, m, wedges, cubes) == m\n",
    "      while ll_pos != -1:\n",
    "        formula2 = formulas_2[ll_pos]\n",
    "        ll_pos = linked_list_2[ll_pos]\n",
    "        formula2_rev = reverse_encoded_formula(formula2, m)      \n",
    "        added_from_f2 = _add_wedges_from_formula_while_can(formula2_rev, m, wedges, cubes) \n",
    "        #assert added_from_f2 <= m-1\n",
    "        if added_from_f2 == m-1:\n",
    "          #assert wedges[wedges[0]]>>6 == CENTER_COORD - DY\n",
    "          if mode == 1:\n",
    "            loop_formulas_count += 1\n",
    "          else:\n",
    "            loop_formula = concat_encoded_formulas(formula1, formula2_rev, m)\n",
    "            if mode==2:\n",
    "              norm_formula = normalize_encoded_loop_L2(loop_formula, n)\n",
    "            elif mode == 3:\n",
    "              norm_formula = normalize_encoded_loop_L3(loop_formula, n)\n",
    "            elif mode == 4:\n",
    "              norm_formula = normalize_encoded_loop_L4(loop_formula, n)   \n",
    "            normalized_loops.add(norm_formula)\n",
    "        _pop_n_wedges(added_from_f2, wedges, cubes)    \n",
    "      _pop_n_wedges(m, wedges, cubes)\n",
    "      assert wedges[0] == n\n",
    "\n",
    "    if mode == 1:\n",
    "      return loop_formulas_count\n",
    "    else:\n",
    "      return len(normalized_loops)\n",
    "  return f\n",
    "  \n",
    "# Enumerates all formulas correspdning to loops, no dedup whatsoever.\n",
    "def count_loops(n, mode=1):\n",
    "  assert 1<=mode<=4\n",
    "  if n<4 or n%2==1:\n",
    "    return 0\n",
    "  formulas_1, last_wedges_1 = enumerate_shapes(n//2+1, first_wedge_faces=(0,3))\n",
    "  formulas_2, last_wedges_2 = enumerate_shapes(n//2+1, first_wedge_faces=(3,0))\n",
    "  return _count_loops_helper(mode)(n, formulas_1, last_wedges_1, formulas_2, last_wedges_2)"
   ]
  },
  {
   "cell_type": "code",
   "execution_count": 4,
   "id": "c212d235",
   "metadata": {},
   "outputs": [
    {
     "name": "stdout",
     "output_type": "stream",
     "text": [
      "n=4, L1=1, L2=1, L3=1, L4=1, time=16.990905s\n",
      "n=6, L1=8, L2=5, L3=3, L4=2, time=0.001732s\n",
      "n=8, L1=16, L2=10, L3=3, L4=3, time=0.002034s\n",
      "n=10, L1=280, L2=145, L3=31, L4=18, time=0.002535s\n",
      "n=12, L1=2229, L2=1129, L3=196, L4=112, time=0.003779s\n",
      "n=14, L1=20720, L2=10405, L3=1509, L4=777, time=0.014971s\n",
      "n=16, L1=226000, L2=113113, L3=14191, L4=7198, time=0.127108s\n",
      "n=18, L1=2293422, L2=1147142, L3=127681, L4=64056, time=1.647473s\n",
      "n=20, L1=24965960, L2=12484285, L3=1248963, L4=625584, time=26.788128s\n"
     ]
    }
   ],
   "source": [
    "for n in range(4,21,2):\n",
    "  t0=time.time()\n",
    "  L1,L2,L3,L4 = (count_loops(n, mode=i) for i in range(1,5))\n",
    "  print(\"n=%d, L1=%d, L2=%d, L3=%d, L4=%d, time=%fs\" % (n,L1,L2,L3,L4, time.time()-t0), flush=True)\n",
    "  assert L1 == L1_GOLDEN[n//2-2]\n",
    "  assert L2 == L2_GOLDEN[n//2-2]\n",
    "  assert L3 == L3_GOLDEN[n//2-2]\n",
    "  assert L4 == L4_GOLDEN[n//2-2] "
   ]
  },
  {
   "cell_type": "code",
   "execution_count": 15,
   "id": "a30884a8",
   "metadata": {},
   "outputs": [
    {
     "name": "stdout",
     "output_type": "stream",
     "text": [
      "2293422 0.25253844261169434\n"
     ]
    }
   ],
   "source": [
    "t0=time.time()\n",
    "print(count_loops(18,mode=1), time.time()-t0)"
   ]
  },
  {
   "cell_type": "code",
   "execution_count": 16,
   "id": "b2a205d4",
   "metadata": {},
   "outputs": [
    {
     "name": "stdout",
     "output_type": "stream",
     "text": [
      "24965960 3.1920886039733887\n"
     ]
    }
   ],
   "source": [
    "t0=time.time()\n",
    "print(count_loops(20,mode=1), time.time()-t0)"
   ]
  },
  {
   "cell_type": "code",
   "execution_count": 17,
   "id": "98775efb",
   "metadata": {},
   "outputs": [
    {
     "name": "stdout",
     "output_type": "stream",
     "text": [
      "275633094 47.73346781730652\n"
     ]
    }
   ],
   "source": [
    "t0=time.time()\n",
    "print(count_loops(22,mode=1), time.time()-t0)"
   ]
  },
  {
   "cell_type": "code",
   "execution_count": 18,
   "id": "19b61557",
   "metadata": {},
   "outputs": [
    {
     "name": "stdout",
     "output_type": "stream",
     "text": [
      "3069890660 958.3998811244965\n"
     ]
    }
   ],
   "source": [
    "t0=time.time()\n",
    "print(count_loops(24,mode=1), time.time()-t0)"
   ]
  },
  {
   "cell_type": "code",
   "execution_count": 19,
   "id": "94cf9d70",
   "metadata": {},
   "outputs": [
    {
     "name": "stdout",
     "output_type": "stream",
     "text": [
      "63970851 1868.8828327655792\n"
     ]
    }
   ],
   "source": [
    "t0=time.time()\n",
    "print(count_loops(24,mode=4), time.time()-t0)"
   ]
  },
  {
   "cell_type": "markdown",
   "id": "f1d03d98",
   "metadata": {},
   "source": [
    "### Computing L2 using palindromes\n",
    "\n",
    "We can't compute L2(24), because that would use too much memory (1.5 billion int64 ~ 12 GB). But we can calculate using the formula L2(n)=(L1(n)+LP(n))/2, whew LP is number of formulas of ength n-1 that are palindromes and describe loops."
   ]
  },
  {
   "cell_type": "code",
   "execution_count": 5,
   "id": "c3581e49",
   "metadata": {},
   "outputs": [
    {
     "name": "stdout",
     "output_type": "stream",
     "text": [
      "L2(4)=1\n",
      "L2(6)=5\n",
      "L2(8)=10\n",
      "L2(10)=145\n",
      "L2(12)=1129\n",
      "L2(14)=10405\n",
      "L2(16)=113113\n",
      "L2(18)=1147142\n",
      "L2(20)=12484285\n",
      "L2(22)=137821030\n",
      "L2(24)=1534958307\n",
      "OK 1.474121s\n"
     ]
    }
   ],
   "source": [
    "from rubiks_snake import RubiksSnakeCounter\n",
    "t0 = time.time()\n",
    "for n in range(4,25,2):\n",
    "  L1 = L1_GOLDEN[n//2-2] \n",
    "  L2 = (L1 + RubiksSnakeCounter.count_palindrome_loops(n))//2\n",
    "  assert L2 == L2_GOLDEN[n//2-2]\n",
    "  print(\"L2(%d)=%d\" % (n, L2))\n",
    "print(\"OK %fs\" % (time.time()-t0))"
   ]
  },
  {
   "cell_type": "markdown",
   "id": "95afa441",
   "metadata": {},
   "source": [
    "### Summary\n",
    "\n",
    "So, we got these results for the classic 24-wedge snake:\n",
    "\n",
    "* L1(24) = 3069890660 ~ 3.07 trillion\n",
    "* L2(24) = 1534958307 ~ 1.53 trillion\n",
    "* L4(24) = 63970851 ~ 64.0 billion\n",
    "\n",
    "The value of L4 matches the value reported on page 17 in the \"Soul of the Snake\" by Bruno Curfs. However, I must note that it's incorrect to subtract this value from $6.7 \\cdot 10^{12}$ to get number of non-loops, because these are counts of different kinds of objects. Instead, value of L2(24) should be subtracted."
   ]
  },
  {
   "cell_type": "code",
   "execution_count": null,
   "id": "d077bbc8",
   "metadata": {},
   "outputs": [],
   "source": []
  }
 ],
 "metadata": {
  "kernelspec": {
   "display_name": "Python 3 (ipykernel)",
   "language": "python",
   "name": "python3"
  },
  "language_info": {
   "codemirror_mode": {
    "name": "ipython",
    "version": 3
   },
   "file_extension": ".py",
   "mimetype": "text/x-python",
   "name": "python",
   "nbconvert_exporter": "python",
   "pygments_lexer": "ipython3",
   "version": "3.10.12"
  }
 },
 "nbformat": 4,
 "nbformat_minor": 5
}
