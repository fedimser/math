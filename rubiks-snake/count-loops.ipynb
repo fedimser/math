{
 "cells": [
  {
   "cell_type": "markdown",
   "id": "2e8b3a72",
   "metadata": {},
   "source": [
    "# Counting Rubik's Snake Loops\n",
    "\n",
    "Loop is a shape where tail and head are adjacent.\n",
    "\n",
    "Let's define four numbers for $n$-wedge Rubik's Snake:\n",
    "\n",
    "* L1(n) - number of formulas (i.e. strings of characters 0,1,2,3 of length $n-1$) that describe shape that are loops.\n",
    "* L2(n) - number of formulas, de-duplicated \"up to reversal\" that describe loop.\n",
    "* L3(n) - number of loops (described by n-character formulas) up to cyclic shifts.\n",
    "* L4(n) - number of loops up to cyclic shifts and reversals.\n",
    "\n",
    "L4 is the most meaningful number. It is the number of different loops if we look at loops as sets of wedges (ignoring where the tail-head connection is), and consider two loops the same if they can be matched by translation and rotation.\n",
    "\n",
    "All these values are zeros for odd $n$, and for n=2. So we will be computing values for n=4,6,8,10...\n",
    "\n",
    "Below are values for n from 4 to 24 that I got (values for odd n omitted, as they are zero)."
   ]
  },
  {
   "cell_type": "code",
   "execution_count": 1,
   "id": "f953ad26",
   "metadata": {},
   "outputs": [],
   "source": [
    "L1_GOLDEN = [1,8,16,280,2229,20720,226000,2293422,24965960,275633094,3069890660]\n",
    "L2_GOLDEN = [1,5,10,145,1129,10405,113113,1147142,12484285,137821030,1534958307]\n",
    "L3_GOLDEN = [1,3,3,31,196,1509,14191,127681,1248963,12531157,127918745]\n",
    "L4_GOLDEN = [1,2,3,18,112,777,7198,64056,625584,6267820,63970851]"
   ]
  },
  {
   "cell_type": "markdown",
   "id": "a4813f26",
   "metadata": {},
   "source": [
    "These are all normalized loops (in sense of definition L4) for n=4,6,8,10."
   ]
  },
  {
   "cell_type": "code",
   "execution_count": 2,
   "id": "9fe535d2",
   "metadata": {},
   "outputs": [],
   "source": [
    "L4_LOOPS = {\n",
    "  4: {'2222'},\n",
    "  6: {'131313', '123123'},\n",
    "  8: {'01230321', '00220022', '12321232'},\n",
    "  10: {'0131201312', '0021331132', '0021013032', '0013211022', '0231303132', \n",
    "       '0121323022', '0230320323', '0113133022', '0012300123', '0113203312', \n",
    "       '0123023212', '0131202131', '0013100313', '0021330313', '0120121021', \n",
    "       '0013101132', '0022033213', '0231302313'}\n",
    "}"
   ]
  },
  {
   "cell_type": "markdown",
   "id": "cd929afb",
   "metadata": {},
   "source": [
    "### Counting the loops\n",
    "\n",
    "We enumerate all loops using meet-in the middle technique, which is faster than $O(4^n)$.\n",
    "\n",
    "For L1 we simply count all loops. For L2,L3,L4 we need to \"de-duplicate\" loops by normalizing them and putting normalized formulas into a set."
   ]
  },
  {
   "cell_type": "code",
   "execution_count": 3,
   "id": "e432f9c2",
   "metadata": {},
   "outputs": [],
   "source": [
    "import numba\n",
    "import numpy as np\n",
    "import time\n",
    "import functools\n",
    "from math import gcd\n",
    "\n",
    "from rubiks_snake import RubiksSnakeCounter, _push_wedge,_pop_wedge,_push_next_wedge_if_can, \\\n",
    "    _prepare_arena, _add_wedges_from_formula_while_can, _pop_n_wedges, _pop_all_but_one, \\\n",
    "    _next_wedge_would_match_head, \\\n",
    "    reverse_encoded_formula, min_cyclic_shift, concat_encoded_formulas, \\\n",
    "    INIT_WEDGE,BOX_SIZE,FACE_IDS_TO_WEDGE_ID,DY\n",
    "\n",
    "\n",
    "@numba.jit(\"i8(i8,i8)\", inline=\"always\")\n",
    "def normalize_encoded_loop_L2(f, n):\n",
    "  f_without_last = f//4\n",
    "  return min(f_without_last, reverse_encoded_formula(f_without_last, n-1))\n",
    "\n",
    "@numba.jit(\"i8(i8,i8)\", inline=\"always\")\n",
    "def normalize_encoded_loop_L3(f, n):\n",
    "  return min_cyclic_shift(f, n)\n",
    "        \n",
    "@numba.jit(\"i8(i8,i8)\", inline=\"always\")\n",
    "def normalize_encoded_loop_L4(f, n):\n",
    "  rev = reverse_encoded_formula(f, n)\n",
    "  return min(min_cyclic_shift(f, n), min_cyclic_shift(rev, n))\n",
    "\n",
    "@functools.cache\n",
    "def _count_loops_helper(mode):\n",
    "  @numba.jit(\"i8(i8,i8[:],i8[:],i8[:],i8[:])\")\n",
    "  def f(n, formulas_1, last_wedges_1, formulas_2, last_wedges_2):\n",
    "    half_shapes_count = len(formulas_1)\n",
    "    assert len(formulas_2) == half_shapes_count\n",
    "    m = n // 2\n",
    "\n",
    "    # Manual map to store mapping wedge_id -> List[formula]. \n",
    "    linked_list_2 = np.full((half_shapes_count,), -1)\n",
    "    wedge_id_to_formula_pos_2 = np.full(((BOX_SIZE**3)<<6,), -1)\n",
    "\n",
    "    for i in range(half_shapes_count):\n",
    "      last_wedge = last_wedges_2[i]\n",
    "      if wedge_id_to_formula_pos_2[last_wedge] != -1:\n",
    "        linked_list_2[i] = wedge_id_to_formula_pos_2[last_wedge] \n",
    "      wedge_id_to_formula_pos_2[last_wedge]=i  \n",
    "\n",
    "    wedges, cubes = _prepare_arena(n, INIT_WEDGE)\n",
    "    loop_formulas_count = 0 \n",
    "    normalized_loops = set()\n",
    "    normalized_loops.add(0)\n",
    "    normalized_loops.remove(0)\n",
    "\n",
    "    for i in range(half_shapes_count):\n",
    "      lookup_key = last_wedges_1[i] ^ 16\n",
    "      ll_pos = wedge_id_to_formula_pos_2[lookup_key]\n",
    "      if ll_pos == -1:\n",
    "        continue\n",
    "      formula1 = formulas_1[i]\n",
    "      assert _add_wedges_from_formula_while_can(formula1, m, wedges, cubes) == m\n",
    "      while ll_pos != -1:\n",
    "        formula2 = formulas_2[ll_pos]\n",
    "        ll_pos = linked_list_2[ll_pos]\n",
    "        formula2_rev = reverse_encoded_formula(formula2, m)      \n",
    "        added_from_f2 = _add_wedges_from_formula_while_can(formula2_rev, m, wedges, cubes) \n",
    "        #assert added_from_f2 <= m-1\n",
    "        if added_from_f2 == m-1:\n",
    "          #assert wedges[wedges[0]]>>6 == CENTER_COORD - DY\n",
    "          if mode == 1:\n",
    "            loop_formulas_count += 1\n",
    "          else:\n",
    "            loop_formula = concat_encoded_formulas(formula1, formula2_rev, m)\n",
    "            if mode==2:\n",
    "              norm_formula = normalize_encoded_loop_L2(loop_formula, n)\n",
    "            elif mode == 3:\n",
    "              norm_formula = normalize_encoded_loop_L3(loop_formula, n)\n",
    "            elif mode == 4:\n",
    "              norm_formula = normalize_encoded_loop_L4(loop_formula, n)   \n",
    "            normalized_loops.add(norm_formula)\n",
    "        _pop_n_wedges(added_from_f2, wedges, cubes)    \n",
    "      _pop_n_wedges(m, wedges, cubes)\n",
    "      assert wedges[0] == n\n",
    "\n",
    "    if mode == 1:\n",
    "      return loop_formulas_count\n",
    "    else:\n",
    "      return len(normalized_loops)\n",
    "  return f\n",
    "  \n",
    "# Enumerates all formulas correspdning to loops, no dedup whatsoever.\n",
    "def count_loops(n, mode=1):\n",
    "  assert 1<=mode<=4\n",
    "  if n<4 or n%2==1:\n",
    "    return 0\n",
    "  formulas_1, last_wedges_1 = RubiksSnakeCounter.enumerate_shapes(n//2+1, first_wedge_faces=(0,3))\n",
    "  formulas_2, last_wedges_2 = RubiksSnakeCounter.enumerate_shapes(n//2+1, first_wedge_faces=(3,0))\n",
    "  return _count_loops_helper(mode)(n, formulas_1, last_wedges_1, formulas_2, last_wedges_2)"
   ]
  },
  {
   "cell_type": "code",
   "execution_count": 4,
   "id": "8d5a136b",
   "metadata": {},
   "outputs": [
    {
     "name": "stdout",
     "output_type": "stream",
     "text": [
      "n=4, L1=1, L2=1, L3=1, L4=1, time=17.520567s\n",
      "n=6, L1=8, L2=5, L3=3, L4=2, time=0.001617s\n",
      "n=8, L1=16, L2=10, L3=3, L4=3, time=0.001950s\n",
      "n=10, L1=280, L2=145, L3=31, L4=18, time=0.002318s\n",
      "n=12, L1=2229, L2=1129, L3=196, L4=112, time=0.003842s\n",
      "n=14, L1=20720, L2=10405, L3=1509, L4=777, time=0.014159s\n",
      "n=16, L1=226000, L2=113113, L3=14191, L4=7198, time=0.128736s\n",
      "n=18, L1=2293422, L2=1147142, L3=127681, L4=64056, time=1.843187s\n",
      "n=20, L1=24965960, L2=12484285, L3=1248963, L4=625584, time=27.803878s\n"
     ]
    }
   ],
   "source": [
    "for n in range(4,21,2):\n",
    "  t0=time.time()\n",
    "  L1,L2,L3,L4 = (count_loops(n, mode=i) for i in range(1,5))\n",
    "  print(\"n=%d, L1=%d, L2=%d, L3=%d, L4=%d, time=%fs\" % (n,L1,L2,L3,L4, time.time()-t0), flush=True)\n",
    "  assert L1 == L1_GOLDEN[n//2-2]\n",
    "  assert L1 == RubiksSnakeCounter.L1[n]\n",
    "  assert L2 == L2_GOLDEN[n//2-2]\n",
    "  assert L3 == L3_GOLDEN[n//2-2]\n",
    "  assert L4 == L4_GOLDEN[n//2-2] "
   ]
  },
  {
   "cell_type": "code",
   "execution_count": 15,
   "id": "bf1201ce",
   "metadata": {},
   "outputs": [
    {
     "name": "stdout",
     "output_type": "stream",
     "text": [
      "2293422 0.25253844261169434\n"
     ]
    }
   ],
   "source": [
    "t0=time.time()\n",
    "print(count_loops(18,mode=1), time.time()-t0)"
   ]
  },
  {
   "cell_type": "code",
   "execution_count": 16,
   "id": "16f796a9",
   "metadata": {},
   "outputs": [
    {
     "name": "stdout",
     "output_type": "stream",
     "text": [
      "24965960 3.1920886039733887\n"
     ]
    }
   ],
   "source": [
    "t0=time.time()\n",
    "print(count_loops(20,mode=1), time.time()-t0)"
   ]
  },
  {
   "cell_type": "code",
   "execution_count": 17,
   "id": "73e0f5be",
   "metadata": {},
   "outputs": [
    {
     "name": "stdout",
     "output_type": "stream",
     "text": [
      "275633094 47.73346781730652\n"
     ]
    }
   ],
   "source": [
    "t0=time.time()\n",
    "print(count_loops(22,mode=1), time.time()-t0)"
   ]
  },
  {
   "cell_type": "code",
   "execution_count": 18,
   "id": "517594f8",
   "metadata": {},
   "outputs": [
    {
     "name": "stdout",
     "output_type": "stream",
     "text": [
      "3069890660 958.3998811244965\n"
     ]
    }
   ],
   "source": [
    "t0=time.time()\n",
    "print(count_loops(24,mode=1), time.time()-t0)"
   ]
  },
  {
   "cell_type": "code",
   "execution_count": 19,
   "id": "730dd0fd",
   "metadata": {},
   "outputs": [
    {
     "name": "stdout",
     "output_type": "stream",
     "text": [
      "63970851 1868.8828327655792\n"
     ]
    }
   ],
   "source": [
    "t0=time.time()\n",
    "print(count_loops(24,mode=4), time.time()-t0)"
   ]
  },
  {
   "cell_type": "markdown",
   "id": "e2b7e0a2",
   "metadata": {},
   "source": [
    "### Computing L2 faster using palindromes\n",
    "\n",
    "Computing L2(n) would take longer than L1(n), and it would require a lot of memory for large n.\n",
    "\n",
    "However, we can calculate it using the formula $L_2(n)=(L_1(n)+LP(n))/2$, where LP is the number of formulas of length n-1 that are palindromes and describe loops."
   ]
  },
  {
   "cell_type": "code",
   "execution_count": 5,
   "id": "a12f37da",
   "metadata": {},
   "outputs": [
    {
     "name": "stdout",
     "output_type": "stream",
     "text": [
      "L2(4)=1\n",
      "L2(6)=5\n",
      "L2(8)=10\n",
      "L2(10)=145\n",
      "L2(12)=1129\n",
      "L2(14)=10405\n",
      "L2(16)=113113\n",
      "L2(18)=1147142\n",
      "L2(20)=12484285\n",
      "L2(22)=137821030\n",
      "L2(24)=1534958307\n",
      "OK 1.474121s\n"
     ]
    }
   ],
   "source": [
    "t0 = time.time()\n",
    "for n in range(4,25,2):\n",
    "  L1 = L1_GOLDEN[n//2-2] \n",
    "  L2 = (L1 + RubiksSnakeCounter.count_palindrome_loops(n))//2\n",
    "  assert L2 == L2_GOLDEN[n//2-2]\n",
    "  print(\"L2(%d)=%d\" % (n, L2))\n",
    "print(\"OK %fs\" % (time.time()-t0))"
   ]
  },
  {
   "cell_type": "markdown",
   "id": "1fb3a40f",
   "metadata": {},
   "source": [
    "### Computing L3 faster using Burnside's lemma\n",
    "\n",
    "Similarly to L2(n), we can compute L3(n) quicker. From Burnside's lemma we get:\n",
    "\n",
    "$$L_3(n) = \\frac{1}{n} \\sum_{i=0}^{n-1} X \\Big( \\text{GCD}(i,n), \\frac{n}{\\text{GCD}(i,n)} \\Big),$$\n",
    "\n",
    "where $X(n,k)$ is the number of formulas $f$ of length $n$ such that $f^n$ (concatenation of f written k times) describes a loop.\n",
    "\n",
    "We can compute X as follows:\n",
    "* $X(n,1) = L_1(n)$ - so we need to pre-compute $L_1(n)$ to compute $L_3(n)$.\n",
    "* $X(n,k) = 0$ for $k \\ge 5$ - this follows from Rubik's Snake geometry.\n",
    "* $X(n,k)$ for $k=2,3,4$ can be computed by definition by enumerating all formulas of length $n$. Note that to compute $L_1(n)$, the maximum $n$ we need to compute X for is $n/2$, so all these computation will be much faster than computing $L_1(n)$.\n",
    "\n",
    "In the code below we will also use this convenient definition: *loop-order* of string $f$ is such a number $k$ that $f^k$ describes a loop, or 0 if $f^k$ is not a loop for any $k$ (including the case when f doesn't describe a valid shape)."
   ]
  },
  {
   "cell_type": "code",
   "execution_count": 5,
   "id": "5c4e4fbb",
   "metadata": {},
   "outputs": [
    {
     "name": "stdout",
     "output_type": "stream",
     "text": [
      "L3(4)=1\n",
      "L3(6)=3\n",
      "L3(8)=3\n",
      "L3(10)=31\n",
      "L3(12)=196\n",
      "L3(14)=1509\n",
      "L3(16)=14191\n",
      "L3(18)=127681\n",
      "L3(20)=1248963\n",
      "L3(22)=12531157\n",
      "L3(24)=127918745\n",
      "OK 2.043338s\n"
     ]
    }
   ],
   "source": [
    "MAX_POSSIBLE_LOOP_ORDER=4\n",
    "\n",
    "@numba.jit(\"i8(i8,i8,i8[:],i8[:])\")\n",
    "def get_loop_order(encoded_formula, formula_len, wedges, cubes):\n",
    "  ans = 0\n",
    "  for i in range(MAX_POSSIBLE_LOOP_ORDER):\n",
    "    added = _add_wedges_from_formula_while_can(encoded_formula, formula_len, wedges, cubes)\n",
    "    if added < formula_len:\n",
    "      if added == formula_len-1 and _next_wedge_would_match_head(encoded_formula % 4, wedges):\n",
    "        ans = i+1\n",
    "      break\n",
    "  _pop_all_but_one(wedges, cubes)\n",
    "  return ans\n",
    "\n",
    "@functools.cache\n",
    "@numba.jit(\"i8[:](i8)\")\n",
    "def compute_X_for_n(n):\n",
    "  wedges, cubes = _prepare_arena(MAX_POSSIBLE_LOOP_ORDER*n+1, INIT_WEDGE)\n",
    "  X = np.zeros(MAX_POSSIBLE_LOOP_ORDER+1, dtype=np.int64)\n",
    "  for f in range(4**n):\n",
    "    X[get_loop_order(f, n, wedges, cubes)] += 1\n",
    "  return X  \n",
    "\n",
    "def X(n, k):\n",
    "  assert k >= 1\n",
    "  if k == 1:\n",
    "    return RubiksSnakeCounter.L1[n]\n",
    "  elif k>=5:\n",
    "    return 0\n",
    "  return compute_X_for_n(n)[k]\n",
    "\n",
    "t0 = time.time()\n",
    "for n in range(4,25,2):\n",
    "  L3 = sum(X(gcd(i,n), n//gcd(i,n)) for i in range(n)) // n\n",
    "  assert L3 == L3_GOLDEN[n//2-2]\n",
    "  print(\"L3(%d)=%d\" % (n, L3))\n",
    "print(\"OK %fs\" % (time.time()-t0))"
   ]
  },
  {
   "cell_type": "markdown",
   "id": "6d6cdd57",
   "metadata": {},
   "source": [
    "### Summary\n",
    "\n",
    "So, we got these results for the classic 24-wedge snake:\n",
    "\n",
    "* L1(24) = 3069890660 ~ 3.07 billion\n",
    "* L2(24) = 1534958307 ~ 1.53 billion\n",
    "* L3(24) = 127918745 ~ 128.0 million \n",
    "* L4(24) = 63970851 ~ 64.0 million\n",
    "\n",
    "The value of L4 matches the value reported on page 17 in the [Soul of the Snake](https://tinyurl.com/Soul-Of-The-Snake) book. However, I must note that it's incorrect to subtract this value from $6.7 \\cdot 10^{12}$ to get number of non-loops, because these are counts of different kinds of objects. Instead, value of L2(24) should be subtracted."
   ]
  }
 ],
 "metadata": {
  "kernelspec": {
   "display_name": "Python 3 (ipykernel)",
   "language": "python",
   "name": "python3"
  },
  "language_info": {
   "codemirror_mode": {
    "name": "ipython",
    "version": 3
   },
   "file_extension": ".py",
   "mimetype": "text/x-python",
   "name": "python",
   "nbconvert_exporter": "python",
   "pygments_lexer": "ipython3",
   "version": "3.10.12"
  }
 },
 "nbformat": 4,
 "nbformat_minor": 5
}
