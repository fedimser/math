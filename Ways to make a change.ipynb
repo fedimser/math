{
 "cells": [
  {
   "cell_type": "markdown",
   "metadata": {},
   "source": [
    "# Ways to make a change\n",
    "\n",
    "Context: https://www.youtube.com/watch?v=VLbePGBOVeg&t=823s\n",
    "\n",
    "I suggest a simple algorithm based on dynamic programming which solves the problem in linear time."
   ]
  },
  {
   "cell_type": "code",
   "execution_count": 5,
   "metadata": {},
   "outputs": [
    {
     "name": "stdout",
     "output_type": "stream",
     "text": [
      "293 ways to make change for $1. Took 0.000088s to compute\n",
      "2728 ways to make change for $2. Took 0.000137s to compute\n",
      "2103596 ways to make change for $10. Took 0.000736s to compute\n",
      "53995291 ways to make change for $20. Took 0.001493s to compute\n",
      "139946140451 ways to make change for $100. Took 0.007929s to compute\n",
      "4371565890901 ways to make change for $200. Took 0.030343s to compute\n",
      "13398445413854501 ways to make change for $1000. Took 0.095753s to compute\n",
      "427707562988709001 ways to make change for $2000. Took 0.187357s to compute\n",
      "1333983445341383545001 ways to make change for $10000. Took 1.027038s to compute\n",
      "42677067562698867090001 ways to make change for $20000. Took 1.828298s to compute\n",
      "133339833445334138335450001 ways to make change for $100000. Took 8.846942s to compute\n",
      "4266770667562669886670900001 ways to make change for $200000. Took 18.182946s to compute\n"
     ]
    }
   ],
   "source": [
    "import time\n",
    "\n",
    "COINS = [1, 5, 10, 25, 50, 100]\n",
    "\n",
    "def addCoin(ways, coin):\n",
    "    n = len(ways)\n",
    "    ans = [0]* n\n",
    "    \n",
    "    for i in range(n):\n",
    "        ans[i]=(0 if i<coin else ans[i-coin])+ways[i]\n",
    "    return ans\n",
    "\n",
    "def countWays(limit):\n",
    "    ans = [0]*(limit+1)\n",
    "    ans[0]=1\n",
    "    for coin in COINS:\n",
    "        ans = addCoin(ans, coin)\n",
    "    return ans[limit]\n",
    "    \n",
    "for i in [1, 2, 10, 20, 100, 200, 1000, 2000, 10000, 20000, 100000, 200000]:\n",
    "    t0 = time.time()\n",
    "    ans = countWays(100*i)\n",
    "    print(\"%d ways to make change for $%s. Took %fs to compute\" % (ans, i, time.time()-t0))"
   ]
  }
 ],
 "metadata": {
  "kernelspec": {
   "display_name": "Python 3",
   "language": "python",
   "name": "python3"
  },
  "language_info": {
   "codemirror_mode": {
    "name": "ipython",
    "version": 3
   },
   "file_extension": ".py",
   "mimetype": "text/x-python",
   "name": "python",
   "nbconvert_exporter": "python",
   "pygments_lexer": "ipython3",
   "version": "3.8.5"
  }
 },
 "nbformat": 4,
 "nbformat_minor": 4
}
